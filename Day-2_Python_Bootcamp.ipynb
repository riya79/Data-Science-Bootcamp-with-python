{
 "cells": [
  {
   "cell_type": "markdown",
   "id": "ae3537a9",
   "metadata": {},
   "source": [
    "# Assignment Day-2 (Python)\n",
    "Riya Gupta(91901)"
   ]
  },
  {
   "cell_type": "markdown",
   "id": "66632ede",
   "metadata": {},
   "source": [
    "## 1.Given a list of integers, remove all occurrences of a specific value using a list method. \n",
    "  \n",
    "\n"
   ]
  },
  {
   "cell_type": "code",
   "execution_count": 6,
   "id": "8c916cd2",
   "metadata": {},
   "outputs": [
    {
     "name": "stdout",
     "output_type": "stream",
     "text": [
      "Enter the value to remove: 3\n",
      "Values reamining in list after removing 3\n",
      "[1, 2, 4, 5, 6]\n"
     ]
    }
   ],
   "source": [
    "\n",
    "numbers = [1, 2, 3, 4, 3, 5, 3, 6]\n",
    "\n",
    "value_to_remove = int(input(\"Enter the value to remove: \"))\n",
    "\n",
    "\n",
    "if value_to_remove in numbers:\n",
    "    # Using list comprehension\n",
    "    numbers = [num for num in numbers if num != value_to_remove]\n",
    "    print(\"Values reamining in list after removing\",value_to_remove)\n",
    "    print(numbers)\n",
    "else:\n",
    "    print(\"Value not present in the list.\")\n"
   ]
  },
  {
   "cell_type": "markdown",
   "id": "0c29dfb9",
   "metadata": {},
   "source": [
    "## 2. Concatenate a list of strings into a single string, with each element separated by a space, using a list method.\n"
   ]
  },
  {
   "cell_type": "code",
   "execution_count": 13,
   "id": "0189f5ec",
   "metadata": {},
   "outputs": [
    {
     "name": "stdout",
     "output_type": "stream",
     "text": [
      "After joining strings in list\n",
      "  Hello world this is Python Bootcamp day-2\n",
      "<class 'str'>\n"
     ]
    }
   ],
   "source": [
    "\n",
    "words = [\"Hello\", \"world\", \"this\", \"is\", \"Python\",\"Bootcamp\",\"day-2\"]\n",
    "\n",
    "#  join() \n",
    "result = \" \".join(words)\n",
    "\n",
    "print(\"After joining strings in list\\n \",result)\n",
    "print(type(result))\n"
   ]
  },
  {
   "cell_type": "markdown",
   "id": "8892010b",
   "metadata": {},
   "source": [
    "## 3.Reverse a list of integers using a built-in list method.\n"
   ]
  },
  {
   "cell_type": "code",
   "execution_count": 15,
   "id": "15a78e92",
   "metadata": {},
   "outputs": [
    {
     "name": "stdout",
     "output_type": "stream",
     "text": [
      "Before reversing values in list\n",
      "  [1, 2, 3, 4, 5, 6]\n",
      "After reversing values in list\n",
      "  [6, 5, 4, 3, 2, 1]\n"
     ]
    }
   ],
   "source": [
    "numbers = [1, 2, 3, 4, 5, 6]\n",
    "print(\"Before reversing values in list\\n \",numbers)\n",
    "# Using reverse() \n",
    "numbers.reverse()\n",
    "\n",
    "print(\"After reversing values in list\\n \",numbers)\n"
   ]
  },
  {
   "cell_type": "markdown",
   "id": "d0df32d0",
   "metadata": {},
   "source": [
    "## 4. Sort a list of numbers in descending order using a built-in list method.\n"
   ]
  },
  {
   "cell_type": "code",
   "execution_count": 17,
   "id": "afb4c447",
   "metadata": {},
   "outputs": [
    {
     "name": "stdout",
     "output_type": "stream",
     "text": [
      "Initially values in list\n",
      "  [1, 3, 4, 2, 5, 6]\n",
      "After arranging values in descending order in list\n",
      "  [6, 5, 4, 3, 2, 1]\n"
     ]
    }
   ],
   "source": [
    "numbers = [1,3, 4, 2,  5, 6]\n",
    "print(\"Initially values in list\\n \",numbers)\n",
    "# Using sort() \n",
    "numbers.sort(reverse=True)\n",
    "\n",
    "print(\"After arranging values in descending order in list\\n \",numbers)\n"
   ]
  },
  {
   "cell_type": "markdown",
   "id": "0b5c17a5",
   "metadata": {},
   "source": [
    "## 5.\tGiven two lists, combine them into a single list and remove any duplicate elements using a list method.\n",
    "\n",
    "\n"
   ]
  },
  {
   "cell_type": "code",
   "execution_count": 22,
   "id": "371823d6",
   "metadata": {},
   "outputs": [
    {
     "name": "stdout",
     "output_type": "stream",
     "text": [
      "[1, 2, 3, 4, 5, 6]\n"
     ]
    }
   ],
   "source": [
    "# Method-1 Using extend() and set() to combine and remove duplicates\n",
    "list1 = [1, 2, 3, 4]\n",
    "list2 = [3, 4, 5, 6]\n",
    "list1.extend(list2)         \n",
    "combined_list = list(set(list1)) \n",
    "print(combined_list)"
   ]
  },
  {
   "cell_type": "code",
   "execution_count": 23,
   "id": "48108e6e",
   "metadata": {},
   "outputs": [
    {
     "name": "stdout",
     "output_type": "stream",
     "text": [
      "[1, 2, 3, 4, 5, 6]\n"
     ]
    }
   ],
   "source": [
    "# Method-2 Using += Operator with List Comprehension\n",
    "list1 = [1, 2, 3, 4]\n",
    "list2 = [3, 4, 5, 6]\n",
    "list1 += list2\n",
    "combined_list = []\n",
    "[combined_list.append(item) for item in list1 if item not in combined_list]\n",
    "print(combined_list)"
   ]
  },
  {
   "cell_type": "code",
   "execution_count": 24,
   "id": "9b38aabb",
   "metadata": {},
   "outputs": [
    {
     "name": "stdout",
     "output_type": "stream",
     "text": [
      "[1, 2, 3, 4, 5, 6]\n"
     ]
    }
   ],
   "source": [
    "# Method-3 Using list() with dict.fromkeys()\n",
    "list1 = [1, 2, 3, 4]\n",
    "list2 = [3, 4, 5, 6]\n",
    "combined_list = list(dict.fromkeys(list1 + list2))\n",
    "print(combined_list)"
   ]
  },
  {
   "cell_type": "markdown",
   "id": "c0061678",
   "metadata": {},
   "source": [
    "## 6.\tConvert a tuple of integers into a list and remove the first and last elements using a tuple method.\n",
    "\n",
    "\n"
   ]
  },
  {
   "cell_type": "code",
   "execution_count": 30,
   "id": "47e1a6a7",
   "metadata": {},
   "outputs": [
    {
     "name": "stdout",
     "output_type": "stream",
     "text": [
      "Initial tuple  : (1, 2, 3, 4, 5)\n",
      "After removing first and last values  (2, 3, 4)\n"
     ]
    }
   ],
   "source": [
    "tuple1 = (1, 2, 3, 4, 5)\n",
    "# Convert the tuple to a list\n",
    "list1 = list(tuple1)\n",
    "# Remove the first and last elements using slicing\n",
    "print(\"Initial tuple  :\",tuple1)\n",
    "modified_list = list1[1:-1]\n",
    "tuple_new = tuple(modified_list)\n",
    "print(\"After removing first and last values \",tuple_new)\n"
   ]
  },
  {
   "cell_type": "markdown",
   "id": "91c31170",
   "metadata": {},
   "source": [
    "## 7.\tGiven a list of tuples, extract all the first elements of each tuple into a separate list using tuple unpacking.\n",
    "\n",
    "\n"
   ]
  },
  {
   "cell_type": "code",
   "execution_count": 34,
   "id": "51e6ee69",
   "metadata": {},
   "outputs": [
    {
     "name": "stdout",
     "output_type": "stream",
     "text": [
      "[1, 2, 3, 4]\n"
     ]
    }
   ],
   "source": [
    "#method-1\n",
    "list_tuples = [(1, 'a'), (2, 'b'), (3, 'c'), (4, 'd')]\n",
    "first_elements = []\n",
    "# Using a loop to extract the first elements\n",
    "for item in list_tuples:\n",
    "    first_elements.append(item[0])  # Accessing the first element of each tuple\n",
    "\n",
    "print(first_elements)\n"
   ]
  },
  {
   "cell_type": "code",
   "execution_count": 35,
   "id": "4d411fab",
   "metadata": {},
   "outputs": [
    {
     "name": "stdout",
     "output_type": "stream",
     "text": [
      "(1, 2, 3, 4)\n"
     ]
    }
   ],
   "source": [
    "#method-2\n",
    "list_of_tuples = [(1, 'a'), (2, 'b'), (3, 'c'), (4, 'd')]\n",
    "\n",
    "# Using zip() and unpacking to extract the first elements\n",
    "first_elements = list(zip(*list_of_tuples))[0]\n",
    "\n",
    "print(first_elements)\n"
   ]
  },
  {
   "cell_type": "markdown",
   "id": "34414b92",
   "metadata": {},
   "source": [
    "## 8.\tCombine two tuples into a single tuple.\n"
   ]
  },
  {
   "cell_type": "code",
   "execution_count": 36,
   "id": "66aaaea5",
   "metadata": {},
   "outputs": [
    {
     "name": "stdout",
     "output_type": "stream",
     "text": [
      "tuple1: (1, 2, 3)\n",
      "tuple2: (4, 5, 6)\n",
      "Combined tuple: (1, 2, 3, 4, 5, 6)\n"
     ]
    }
   ],
   "source": [
    "tuple1 = (1, 2, 3)\n",
    "tuple2 = (4, 5, 6)\n",
    "\n",
    "# Combining the tuples\n",
    "combined_tuple = tuple1 + tuple2\n",
    "print(\"tuple1:\",tuple1)\n",
    "print(\"tuple2:\",tuple2)\n",
    "print(\"Combined tuple:\",combined_tuple)\n"
   ]
  },
  {
   "cell_type": "markdown",
   "id": "37b20a31",
   "metadata": {},
   "source": [
    "## 9.\tFind the maximum and minimum values in a tuple of numbers using tuple methods."
   ]
  },
  {
   "cell_type": "code",
   "execution_count": 43,
   "id": "4a2cd7d4",
   "metadata": {},
   "outputs": [
    {
     "name": "stdout",
     "output_type": "stream",
     "text": [
      "tuple1: (10, 5, 8, 3, 15, 2)\n",
      "Maximum value: 15\n",
      "Minimum value: 2\n"
     ]
    }
   ],
   "source": [
    "tuple1 = (10, 5, 8, 3, 15, 2)\n",
    "# Finding the maximum and minimum values using tuple methods\n",
    "maximum_value = max(tuple1)\n",
    "minimum_value = min(tuple1)\n",
    "print(\"tuple1:\" ,tuple1)\n",
    "print(\"Maximum value:\" ,maximum_value)\n",
    "print(\"Minimum value:\",minimum_value)\n"
   ]
  },
  {
   "cell_type": "markdown",
   "id": "ddaf9344",
   "metadata": {},
   "source": [
    "## 10.\tConvert a tuple of strings into a single string, with each element separated by a comma, using tuple methods."
   ]
  },
  {
   "cell_type": "code",
   "execution_count": 49,
   "id": "8dcd8536",
   "metadata": {},
   "outputs": [
    {
     "name": "stdout",
     "output_type": "stream",
     "text": [
      "Tuple of strings: ('Hello', 'world', 'this', 'is', 'Python', 'Bootcamp', 'day-2')\n",
      "result_string:  Hello, world, this, is, Python, Bootcamp, day-2\n",
      "<class 'str'>\n"
     ]
    }
   ],
   "source": [
    "# Given tuple of strings\n",
    "strings_tuple = (\"Hello\", \"world\", \"this\", \"is\", \"Python\",\"Bootcamp\",\"day-2\")\n",
    "# Converting the tuple to a single string with elements separated by commas\n",
    "result_string = \", \".join(strings_tuple)\n",
    "print(\"Tuple of strings:\",strings_tuple)\n",
    "print(\"result_string: \",result_string)\n",
    "print(type(result_string))\n"
   ]
  },
  {
   "cell_type": "markdown",
   "id": "a9de226b",
   "metadata": {},
   "source": [
    "## 11.\tGiven two sets, return the union of the two sets using a set operation.\n"
   ]
  },
  {
   "cell_type": "code",
   "execution_count": 52,
   "id": "a9eeff1a",
   "metadata": {},
   "outputs": [
    {
     "name": "stdout",
     "output_type": "stream",
     "text": [
      "{1, 2, 3, 4, 5}\n"
     ]
    }
   ],
   "source": [
    "set1 = {1, 2, 3}\n",
    "set2 = {3, 4, 5}\n",
    "\n",
    "#  union ()\n",
    "union_set =  set1.union(set2)\n",
    "\n",
    "print(union_set)\n"
   ]
  },
  {
   "cell_type": "code",
   "execution_count": 54,
   "id": "19b4865a",
   "metadata": {},
   "outputs": [
    {
     "name": "stdout",
     "output_type": "stream",
     "text": [
      "{1, 2, 3, 4, 5}\n"
     ]
    }
   ],
   "source": [
    "set1 = {1, 2, 3}\n",
    "set2 = {3, 4, 5}\n",
    "\n",
    "# Returning the union of the two sets using the | operator\n",
    "union_set = set1 | set2\n",
    "\n",
    "print(union_set)\n"
   ]
  },
  {
   "cell_type": "markdown",
   "id": "cc017547",
   "metadata": {},
   "source": [
    "## 12.\tFind the intersection of two sets using a set method.\n"
   ]
  },
  {
   "cell_type": "code",
   "execution_count": 55,
   "id": "67f2e18a",
   "metadata": {},
   "outputs": [
    {
     "name": "stdout",
     "output_type": "stream",
     "text": [
      "{3}\n"
     ]
    }
   ],
   "source": [
    "set1 = {1, 2, 3}\n",
    "set2 = {3, 4, 5}\n",
    "\n",
    "#  union ()\n",
    "intersection_set =  set1.intersection(set2)\n",
    "\n",
    "print(intersection_set)"
   ]
  },
  {
   "cell_type": "markdown",
   "id": "c2335ac1",
   "metadata": {},
   "source": [
    "## 13.\tRemove all elements from one set that are also present in another set using a set method.\n"
   ]
  },
  {
   "cell_type": "code",
   "execution_count": 56,
   "id": "bc3f342b",
   "metadata": {},
   "outputs": [
    {
     "name": "stdout",
     "output_type": "stream",
     "text": [
      "{1, 2, 5}\n"
     ]
    }
   ],
   "source": [
    "\n",
    "set1 = {1, 2, 3, 4, 5}\n",
    "set2 = {3, 4, 6}\n",
    "# Removing elements from set1 that are also present in set2\n",
    "set1.difference_update(set2)\n",
    "\n",
    "print(set1)\n"
   ]
  },
  {
   "cell_type": "markdown",
   "id": "fa27f41f",
   "metadata": {},
   "source": [
    "## 14.\tFind the difference between two sets using a set method.\n"
   ]
  },
  {
   "cell_type": "code",
   "execution_count": 58,
   "id": "a6be2038",
   "metadata": {},
   "outputs": [
    {
     "name": "stdout",
     "output_type": "stream",
     "text": [
      "{1, 2, 5}\n"
     ]
    }
   ],
   "source": [
    "\n",
    "set1 = {1, 2, 3, 4, 5}\n",
    "set2 = {3, 4, 6}\n",
    "# difference()\n",
    "difference_set = set1.difference(set2)\n",
    "\n",
    "print(difference_set)\n"
   ]
  },
  {
   "cell_type": "markdown",
   "id": "2f9d6e18",
   "metadata": {},
   "source": [
    "## 15.\tConvert a list of integers into a set and then back to a list to remove duplicates, using set operations."
   ]
  },
  {
   "cell_type": "code",
   "execution_count": 60,
   "id": "44235ecd",
   "metadata": {},
   "outputs": [
    {
     "name": "stdout",
     "output_type": "stream",
     "text": [
      "[1, 2, 3, 4, 5]\n"
     ]
    }
   ],
   "source": [
    "integer_list = [1, 2, 2, 3, 4, 4, 5]\n",
    "# Step 1: Convert the list to a set to remove duplicates\n",
    "unique_set = set(integer_list)\n",
    "# Step 2: Convert the set back to a list\n",
    "new_list = list(unique_set)\n",
    "\n",
    "print(new_list)\n"
   ]
  },
  {
   "cell_type": "markdown",
   "id": "3e06ab0f",
   "metadata": {},
   "source": [
    "## 16.\tMerge two dictionaries into a single dictionary using a dictionary method."
   ]
  },
  {
   "cell_type": "code",
   "execution_count": 62,
   "id": "286ff011",
   "metadata": {},
   "outputs": [
    {
     "name": "stdout",
     "output_type": "stream",
     "text": [
      "Merged dictionary: {'a': 1, 'b': 3, 'c': 4}\n"
     ]
    }
   ],
   "source": [
    "dict1 = {'a': 1, 'b': 2}\n",
    "dict2 = {'b': 3, 'c': 4}\n",
    "\n",
    "# Merging dict2 into dict1\n",
    "dict1.update(dict2)\n",
    "\n",
    "print(\"Merged dictionary:\",dict1)\n"
   ]
  },
  {
   "cell_type": "markdown",
   "id": "69d1b09c",
   "metadata": {},
   "source": [
    "## 17.\tExtract all values from a dictionary into a list using a dictionary method."
   ]
  },
  {
   "cell_type": "code",
   "execution_count": 63,
   "id": "058599e5",
   "metadata": {},
   "outputs": [
    {
     "name": "stdout",
     "output_type": "stream",
     "text": [
      "[1, 2, 3]\n"
     ]
    }
   ],
   "source": [
    "my_dict = {'a': 1, 'b': 2, 'c': 3}\n",
    "\n",
    "values_list = list(my_dict.values())\n",
    "\n",
    "print(values_list)\n"
   ]
  }
 ],
 "metadata": {
  "kernelspec": {
   "display_name": "Python 3 (ipykernel)",
   "language": "python",
   "name": "python3"
  },
  "language_info": {
   "codemirror_mode": {
    "name": "ipython",
    "version": 3
   },
   "file_extension": ".py",
   "mimetype": "text/x-python",
   "name": "python",
   "nbconvert_exporter": "python",
   "pygments_lexer": "ipython3",
   "version": "3.11.3"
  }
 },
 "nbformat": 4,
 "nbformat_minor": 5
}
